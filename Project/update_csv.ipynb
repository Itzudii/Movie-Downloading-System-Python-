{
 "cells": [
  {
   "cell_type": "code",
   "execution_count": 1,
   "metadata": {},
   "outputs": [],
   "source": [
    "import requests\n",
    "from bs4 import BeautifulSoup\n",
    "import pandas as pd"
   ]
  },
  {
   "cell_type": "code",
   "execution_count": 2,
   "metadata": {},
   "outputs": [],
   "source": [
    "# important links for save time\n",
    "links = {\"South\":'https://www.filmyzilla.vg/category/South-indian-hindi-dubbed-movies.html',\n",
    "\"Bollywood\":'https://www.filmyzilla.vg/category/Bollywood-full-movies.html',\n",
    "\"Hollywood\":'https://www.filmyzilla.vg/category/Hollywood-movies-in-hindi-dubbed.html'}\n",
    "direct_links =  {\n",
    "\"Marvel\":'https://www.filmyzilla.vg/category/260/Marvel-cinematic-universe-movies/default/1.html',\n",
    "\"Cartoon\":'https://www.filmyzilla.vg/category/268/cartoon-movies/default/1.html',\n",
    "\"Unoficial_Hollywood\":'https://www.filmyzilla.vg/category/261/Unofficial-hollywood-hindi-dubbed-movie/default/1.html',\n",
    "\"Chinese\":'https://www.filmyzilla.vg/category/287/Chinese-hindi-dubbed-movies/default/1.html'}"
   ]
  },
  {
   "cell_type": "code",
   "execution_count": 3,
   "metadata": {},
   "outputs": [],
   "source": [
    "constant_file = 'movie.csv'"
   ]
  },
  {
   "cell_type": "code",
   "execution_count": 4,
   "metadata": {},
   "outputs": [],
   "source": [
    "def font_sep(q):\n",
    "    for index,i in enumerate(q):\n",
    "        if i == '>':\n",
    "            for j in range(len(q)):\n",
    "                if q[j+index] == '<':\n",
    "                    # print(q[index:index+j])\n",
    "                    return q[index+1:index+j]"
   ]
  },
  {
   "cell_type": "code",
   "execution_count": 5,
   "metadata": {},
   "outputs": [],
   "source": [
    "df = {\n",
    "   'movie_name':[],\n",
    "   'URL':[]\n",
    "}\n",
    "dff = pd.DataFrame(df)\n",
    "count = 1\n",
    "def convert(link,count):\n",
    "    global data,dff\n",
    "    m_link = link\n",
    "    b=link[0:-6]\n",
    "    new_link = f\"{b}{count}.html\"\n",
    "    print(count,new_link)\n",
    "    try:\n",
    "      r1 = requests.get(new_link)\n",
    "      soup1 = BeautifulSoup(r1.content, 'html.parser')\n",
    "      b = soup1.find_all('div',\"filmyvideo\")\n",
    "      if soup1.find_all('div',\"filmyvideo\") != []:\n",
    "        for link in soup1.find_all('div',\"filmyvideo\"):\n",
    "          df_new = pd.DataFrame([{'URL':link.a[\"href\"],'movie_name':font_sep(str(link.p.font))}])\n",
    "          dff = pd.concat([dff,df_new],ignore_index=True)\n",
    "\n",
    "        count+=1\n",
    "        convert(m_link,count)\n",
    "      else:\n",
    "           return\n",
    "\n",
    "    except:\n",
    "       return \n",
    "\n"
   ]
  },
  {
   "cell_type": "code",
   "execution_count": 10,
   "metadata": {},
   "outputs": [],
   "source": [
    "#  for links ////////////////////////////////////////////////////////////\n",
    "# run if only need time consume 18 minutes for execution\n",
    "dat=[]\n",
    "for sub_links in links:\n",
    "    r = requests.get(links[sub_links])\n",
    "    soup = BeautifulSoup(r.content, 'html.parser')\n",
    "    a=soup.find_all('div',\"touch\")\n",
    "    info1=[]\n",
    "    # print(info1)\n",
    "    for i in a:\n",
    "        info1.append([i.a['href'],i.a.string])\n",
    "        dat.append([f\"{sub_links}/{i.a.string}.csv\",f\"{sub_links}\"])\n",
    "        \n",
    "    # for i in info1:\n",
    "    #     count  = 1\n",
    "    #     df = {\n",
    "    #    'movie_name':[],\n",
    "    #    'URL':[]\n",
    "    #     }\n",
    "    #     print(' ')\n",
    "    #     dff = pd.DataFrame(df)\n",
    "    #     convert(i[0],count)\n",
    "    #     dff.to_csv(f\"{sub_links}/{i[1]}.csv\",index=False)\n",
    "        # dff.to_csv(constant_path,index=False)"
   ]
  },
  {
   "cell_type": "code",
   "execution_count": null,
   "metadata": {},
   "outputs": [],
   "source": [
    "# for Direct links /////////////////////////////////////////\n",
    "# run if only need time consume 8 minutes for execution\n",
    "# collecting 3000+ movies\n",
    "for link in direct_links:\n",
    "    count  = 1\n",
    "    df = {\n",
    "         'movie_name':[],\n",
    "         'URL':[]\n",
    "    }\n",
    "    dff = pd.DataFrame(df)\n",
    "    convert(direct_links[link],count)\n",
    "    dff.to_csv(f\"{link}/{link}.csv\",index=False)\n",
    "    # dff.to_csv(constant_path)"
   ]
  },
  {
   "cell_type": "code",
   "execution_count": 6,
   "metadata": {},
   "outputs": [],
   "source": [
    "# make csv file as constant_file///////////////\n",
    "df = {\n",
    "         'movie_name':[],\n",
    "         'URL':[]\n",
    "    }\n",
    "dff = pd.DataFrame(df) \n",
    "dff.to_csv(constant_file,index=False)"
   ]
  },
  {
   "cell_type": "code",
   "execution_count": 13,
   "metadata": {},
   "outputs": [],
   "source": [
    "# merge all csv file in one /////////////\n",
    "for file in dat:\n",
    "    d = pd.read_csv(file[0])\n",
    "    p = pd.read_csv('movie.csv')\n",
    "    dp = pd.concat([p,d])\n",
    "    dp.to_csv(constant_file,index=False)"
   ]
  },
  {
   "cell_type": "code",
   "execution_count": 10,
   "metadata": {},
   "outputs": [],
   "source": [
    "def searcher(search,list_):\n",
    "    ret=[]\n",
    "    for index,i in enumerate(list_):\n",
    "        for aa,j in enumerate(i):\n",
    "            try:\n",
    "                if search.upper() == i[aa:aa+len(search)].upper():\n",
    "                    ret.append([index,list_[index]])\n",
    "                    break\n",
    "            except:\n",
    "                f\"\"\n",
    "    return ret\n"
   ]
  }
 ],
 "metadata": {
  "kernelspec": {
   "display_name": "Python 3",
   "language": "python",
   "name": "python3"
  },
  "language_info": {
   "codemirror_mode": {
    "name": "ipython",
    "version": 3
   },
   "file_extension": ".py",
   "mimetype": "text/x-python",
   "name": "python",
   "nbconvert_exporter": "python",
   "pygments_lexer": "ipython3",
   "version": "3.11.9"
  }
 },
 "nbformat": 4,
 "nbformat_minor": 2
}
